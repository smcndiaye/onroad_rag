{
 "cells": [
  {
   "cell_type": "code",
   "execution_count": 1,
   "metadata": {},
   "outputs": [
    {
     "name": "stderr",
     "output_type": "stream",
     "text": [
      "C:\\Users\\mouhand\\AppData\\Roaming\\Python\\Python313\\site-packages\\tqdm\\auto.py:21: TqdmWarning: IProgress not found. Please update jupyter and ipywidgets. See https://ipywidgets.readthedocs.io/en/stable/user_install.html\n",
      "  from .autonotebook import tqdm as notebook_tqdm\n"
     ]
    },
    {
     "data": {
      "text/plain": [
       "True"
      ]
     },
     "execution_count": 1,
     "metadata": {},
     "output_type": "execute_result"
    }
   ],
   "source": [
    "import os\n",
    "from langchain.chains import ConversationalRetrievalChain\n",
    "from langchain.memory import ConversationBufferMemory\n",
    "from langchain.document_loaders import UnstructuredURLLoader\n",
    "from PyPDF2 import PdfReader\n",
    "from langchain.text_splitter import RecursiveCharacterTextSplitter\n",
    "from langchain_google_genai import ChatGoogleGenerativeAI\n",
    "from langchain.vectorstores import FAISS\n",
    "from langchain.chains import ConversationalRetrievalChain\n",
    "from langchain.memory import ConversationBufferMemory\n",
    "from langchain_google_genai import GoogleGenerativeAIEmbeddings\n",
    "from dotenv import load_dotenv\n",
    "from langchain.document_loaders import DirectoryLoader,PyPDFLoader\n",
    "load_dotenv()\n"
   ]
  },
  {
   "cell_type": "code",
<<<<<<< HEAD
   "execution_count": 2,
=======
   "execution_count": 4,
>>>>>>> c3464caf47726cdb9a2e4912f091977309ee7b95
   "metadata": {},
   "outputs": [],
   "source": [
    "doc_ld = DirectoryLoader('OnRoad datasets',glob='./*.pdf',loader_cls=PyPDFLoader)\n",
    "documents = doc_ld.load()"
   ]
  },
  {
   "cell_type": "code",
<<<<<<< HEAD
   "execution_count": 3,
=======
   "execution_count": 2,
>>>>>>> c3464caf47726cdb9a2e4912f091977309ee7b95
   "metadata": {},
   "outputs": [
    {
     "name": "stderr",
     "output_type": "stream",
     "text": [
      "[nltk_data] Downloading package punkt to\n",
      "[nltk_data]     C:\\Users\\mouhand\\AppData\\Roaming\\nltk_data...\n",
      "[nltk_data]   Package punkt is already up-to-date!\n",
      "[nltk_data] Downloading package averaged_perceptron_tagger to\n",
      "[nltk_data]     C:\\Users\\mouhand\\AppData\\Roaming\\nltk_data...\n",
      "[nltk_data]   Package averaged_perceptron_tagger is already up-to-\n",
      "[nltk_data]       date!\n",
      "[nltk_data] Downloading package punkt_tab to\n",
      "[nltk_data]     C:\\Users\\mouhand\\AppData\\Roaming\\nltk_data...\n",
      "[nltk_data]   Package punkt_tab is already up-to-date!\n",
      "[nltk_data] Downloading package averaged_perceptron_tagger_eng to\n",
      "[nltk_data]     C:\\Users\\mouhand\\AppData\\Roaming\\nltk_data...\n",
      "[nltk_data]   Package averaged_perceptron_tagger_eng is already up-to-\n",
      "[nltk_data]       date!\n"
     ]
    },
    {
     "data": {
      "text/plain": [
       "True"
      ]
     },
<<<<<<< HEAD
     "execution_count": 3,
=======
     "execution_count": 2,
>>>>>>> c3464caf47726cdb9a2e4912f091977309ee7b95
     "metadata": {},
     "output_type": "execute_result"
    }
   ],
   "source": [
    "import nltk\n",
    "nltk.download('punkt')\n",
    "nltk.download('averaged_perceptron_tagger')\n",
    "nltk.download('punkt_tab')\n",
    "nltk.download('averaged_perceptron_tagger_eng')"
   ]
  },
  {
   "cell_type": "code",
<<<<<<< HEAD
   "execution_count": 4,
=======
   "execution_count": 22,
>>>>>>> c3464caf47726cdb9a2e4912f091977309ee7b95
   "metadata": {},
   "outputs": [],
   "source": [
    "text_splitter = RecursiveCharacterTextSplitter(chunk_size=1000, chunk_overlap=20)\n",
<<<<<<< HEAD
=======
    "\n",
>>>>>>> c3464caf47726cdb9a2e4912f091977309ee7b95
    "text = \"\"\n",
    "for d in documents:\n",
    "    text += d.page_content\n",
    "text_chunks = text_splitter.split_text(text)\n"
   ]
  },
  {
   "cell_type": "code",
<<<<<<< HEAD
   "execution_count": 5,
=======
   "execution_count": 25,
>>>>>>> c3464caf47726cdb9a2e4912f091977309ee7b95
   "metadata": {},
   "outputs": [],
   "source": [
    "def get_vector_store(text_chunks):\n",
    "    embeddings =  GoogleGenerativeAIEmbeddings(model=\"models/embedding-001\")\n",
    "    vector_store = FAISS.from_texts(text_chunks, embedding=embeddings)\n",
    "    return vector_store"
   ]
  },
  {
   "cell_type": "code",
<<<<<<< HEAD
   "execution_count": 6,
=======
   "execution_count": 26,
>>>>>>> c3464caf47726cdb9a2e4912f091977309ee7b95
   "metadata": {},
   "outputs": [],
   "source": [
    "vector_store = get_vector_store(text_chunks)"
   ]
  },
  {
   "cell_type": "code",
<<<<<<< HEAD
   "execution_count": 9,
   "metadata": {},
   "outputs": [],
=======
   "execution_count": 27,
   "metadata": {},
   "outputs": [
    {
     "name": "stderr",
     "output_type": "stream",
     "text": [
      "C:\\Users\\mouhand\\AppData\\Local\\Temp\\ipykernel_23264\\411395932.py:9: LangChainDeprecationWarning: Please see the migration guide at: https://python.langchain.com/docs/versions/migrating_memory/\n",
      "  memory = ConversationBufferMemory(memory_key = \"chat_history\", return_messages=True)\n"
     ]
    }
   ],
>>>>>>> c3464caf47726cdb9a2e4912f091977309ee7b95
   "source": [
    "llm = ChatGoogleGenerativeAI(\n",
    "    model=\"gemini-1.5-pro\",\n",
    "    temperature=0,\n",
    "    max_tokens=None,\n",
    "    timeout=None,\n",
    "    max_retries=2,\n",
    "    # other params...\n",
    ")\n",
    "memory = ConversationBufferMemory(memory_key = \"chat_history\", return_messages=True)\n",
    "conversation_chain = ConversationalRetrievalChain.from_llm(llm=llm, retriever=vector_store.as_retriever(), memory=memory)\n"
   ]
  },
  {
   "cell_type": "code",
<<<<<<< HEAD
   "execution_count": 8,
   "metadata": {},
   "outputs": [
    {
     "name": "stderr",
     "output_type": "stream",
     "text": [
      "C:\\Users\\mouhand\\AppData\\Local\\Temp\\ipykernel_17284\\567646322.py:1: LangChainDeprecationWarning: The method `Chain.__call__` was deprecated in langchain 0.1.0 and will be removed in 1.0. Use :meth:`~invoke` instead.\n",
      "  conversation_chain({'question':'How to improve DPPH'})\n"
     ]
    },
    {
     "data": {
      "text/plain": [
       "{'question': 'How to improve DPPH',\n",
       " 'chat_history': [HumanMessage(content='How to improve DPPH', additional_kwargs={}, response_metadata={}),\n",
       "  AIMessage(content='The provided text outlines a process for identifying the causes of low Deliveries Per Paid Hour (DPPH) and suggests solutions.  It emphasizes identifying the \"primary leakages\" through the PerfectMile dashboard and then drilling down into the specific leakage deep dives to determine the root cause.  It also mentions focusing on metrics with high correlation to Capacity Reliability and DPPH, such as Cubeout and Dispatch Failure Leakage.  Therefore, improving DPPH involves analyzing these metrics and addressing the identified root causes of leakages.', additional_kwargs={}, response_metadata={})],\n",
       " 'answer': 'The provided text outlines a process for identifying the causes of low Deliveries Per Paid Hour (DPPH) and suggests solutions.  It emphasizes identifying the \"primary leakages\" through the PerfectMile dashboard and then drilling down into the specific leakage deep dives to determine the root cause.  It also mentions focusing on metrics with high correlation to Capacity Reliability and DPPH, such as Cubeout and Dispatch Failure Leakage.  Therefore, improving DPPH involves analyzing these metrics and addressing the identified root causes of leakages.'}"
      ]
     },
     "execution_count": 8,
     "metadata": {},
     "output_type": "execute_result"
    }
   ],
   "source": [
    "conversation_chain({'question':'How to improve DPPH'})"
   ]
  },
  {
   "cell_type": "code",
   "execution_count": 11,
   "metadata": {},
   "outputs": [],
   "source": [
    "vector_store.save_local(\"faiss_index\")\n",
    "embeddings =  GoogleGenerativeAIEmbeddings(model=\"models/embedding-001\")\n",
    "\n",
    "new_vector_store = FAISS.load_local(\n",
    "    \"faiss_index\", embeddings, allow_dangerous_deserialization=True\n",
    ")\n"
   ]
  },
  {
   "cell_type": "code",
   "execution_count": 12,
   "metadata": {},
   "outputs": [],
   "source": [
    "conversation_chain = ConversationalRetrievalChain.from_llm(llm=llm, retriever=new_vector_store.as_retriever(), memory=memory)\n"
   ]
  },
  {
   "cell_type": "code",
   "execution_count": 13,
=======
   "execution_count": 29,
>>>>>>> c3464caf47726cdb9a2e4912f091977309ee7b95
   "metadata": {},
   "outputs": [
    {
     "data": {
      "text/plain": [
       "{'question': 'How to improve DPPH',\n",
       " 'chat_history': [HumanMessage(content='How to improve DPPH', additional_kwargs={}, response_metadata={}),\n",
<<<<<<< HEAD
       "  AIMessage(content='The provided documentation outlines several ways to improve DPPH (Deliveries Per Paid Hour), a key metric for on-the-road productivity.  The process focuses on identifying and addressing \"leakages\" that reduce DPPH.\\n\\nHere\\'s a summary of the process:\\n\\n1. **Review the DPPH Performance:** Use the PerfectMile (PM) or Caravan dashboard to check the \"%Plan vs. Actual DPPH.\"  Focus on line 3.4 for the scorecard KPI.  The data is available with a one-day lag (D-1).\\n\\n2. **Identify the Primary Leakages:**  The dashboard provides deep dives into specific leakages, such as Dispatch Failure Leakage. Click through to these deep dives to determine the root cause of the DPPH shortfall.\\n\\n3. **Address the Root Causes:**  The document emphasizes collaboration between operations and DSPs (Delivery Service Providers) to find solutions for the identified leakages.  It also provides recommendations for On-the-Road leaders to communicate with DSPs, while cautioning against language that could be construed as co-management.  Specific recommendations are not detailed in this excerpt.\\n\\n4. **Track and Follow Up:** Use the Daily Planning Review Report (DPR) to track progress and ensure follow-up on implemented solutions.', additional_kwargs={}, response_metadata={})],\n",
       " 'answer': 'The provided documentation outlines several ways to improve DPPH (Deliveries Per Paid Hour), a key metric for on-the-road productivity.  The process focuses on identifying and addressing \"leakages\" that reduce DPPH.\\n\\nHere\\'s a summary of the process:\\n\\n1. **Review the DPPH Performance:** Use the PerfectMile (PM) or Caravan dashboard to check the \"%Plan vs. Actual DPPH.\"  Focus on line 3.4 for the scorecard KPI.  The data is available with a one-day lag (D-1).\\n\\n2. **Identify the Primary Leakages:**  The dashboard provides deep dives into specific leakages, such as Dispatch Failure Leakage. Click through to these deep dives to determine the root cause of the DPPH shortfall.\\n\\n3. **Address the Root Causes:**  The document emphasizes collaboration between operations and DSPs (Delivery Service Providers) to find solutions for the identified leakages.  It also provides recommendations for On-the-Road leaders to communicate with DSPs, while cautioning against language that could be construed as co-management.  Specific recommendations are not detailed in this excerpt.\\n\\n4. **Track and Follow Up:** Use the Daily Planning Review Report (DPR) to track progress and ensure follow-up on implemented solutions.'}"
      ]
     },
     "execution_count": 13,
=======
       "  AIMessage(content=\"The provided text outlines a process for identifying the causes of low Deliveries Per Paid Hour (DPPH).  It suggests using the PerfectMile or Caravan dashboards to analyze DPPH performance and identify primary leakages, such as Dispatch Failure Leakage.  By addressing these leakages, DPPH can be improved.  The document also emphasizes the importance of collaboration between Operations and Delivery Service Providers (DSPs) to find solutions and improve Capacity Reliability.  However, it doesn't offer specific recommendations for *how* to improve DPPH beyond identifying the leakages.\", additional_kwargs={}, response_metadata={})],\n",
       " 'answer': \"The provided text outlines a process for identifying the causes of low Deliveries Per Paid Hour (DPPH).  It suggests using the PerfectMile or Caravan dashboards to analyze DPPH performance and identify primary leakages, such as Dispatch Failure Leakage.  By addressing these leakages, DPPH can be improved.  The document also emphasizes the importance of collaboration between Operations and Delivery Service Providers (DSPs) to find solutions and improve Capacity Reliability.  However, it doesn't offer specific recommendations for *how* to improve DPPH beyond identifying the leakages.\"}"
      ]
     },
     "execution_count": 29,
>>>>>>> c3464caf47726cdb9a2e4912f091977309ee7b95
     "metadata": {},
     "output_type": "execute_result"
    }
   ],
   "source": [
    "conversation_chain({'question':'How to improve DPPH'})"
   ]
  },
  {
   "cell_type": "code",
   "execution_count": null,
   "metadata": {},
   "outputs": [],
   "source": []
  }
 ],
 "metadata": {
  "kernelspec": {
   "display_name": "Python 3",
   "language": "python",
   "name": "python3"
  },
  "language_info": {
   "codemirror_mode": {
    "name": "ipython",
    "version": 3
   },
   "file_extension": ".py",
   "mimetype": "text/x-python",
   "name": "python",
   "nbconvert_exporter": "python",
   "pygments_lexer": "ipython3",
   "version": "3.13.1"
  }
 },
 "nbformat": 4,
 "nbformat_minor": 2
}
